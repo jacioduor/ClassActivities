version https://git-lfs.github.com/spec/v1
oid sha256:7e893a42664f0ba0fcf82ab57548ff2e9c6b485cf342953a73774cb2bec56529
size 37955
