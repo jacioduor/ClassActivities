version https://git-lfs.github.com/spec/v1
oid sha256:bb1cad3f0a5691ff1e27b441ef12311345453beff2cd857a3ed4d24165afb311
size 3449
