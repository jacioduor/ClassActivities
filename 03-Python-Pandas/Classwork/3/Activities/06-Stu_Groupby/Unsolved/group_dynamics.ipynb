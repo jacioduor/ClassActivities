version https://git-lfs.github.com/spec/v1
oid sha256:c7e2d9907cf329cb3b0e0dbf48c4ee52e6c7902e7d00153250014d8cf701c6a0
size 3767
