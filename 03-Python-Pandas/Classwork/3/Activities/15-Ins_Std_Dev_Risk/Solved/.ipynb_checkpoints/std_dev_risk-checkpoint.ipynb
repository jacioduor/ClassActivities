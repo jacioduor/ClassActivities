version https://git-lfs.github.com/spec/v1
oid sha256:755364088da3d4631aeeddf89323e9db74a01e17f6c5eaf70632aa93983d5795
size 28588
