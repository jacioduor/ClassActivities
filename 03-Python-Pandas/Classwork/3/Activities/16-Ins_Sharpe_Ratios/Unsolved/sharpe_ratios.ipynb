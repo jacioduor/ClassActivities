version https://git-lfs.github.com/spec/v1
oid sha256:bf1d1b44c29f0914eb14955867b5ca764f4fc6d41dddf51a957317689cc358b3
size 2247
