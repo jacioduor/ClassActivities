version https://git-lfs.github.com/spec/v1
oid sha256:b3084dea21788df8d91cbfdabda604dc64e12c8c6dd9a9cf1f4bdaa40ec96f10
size 21960
