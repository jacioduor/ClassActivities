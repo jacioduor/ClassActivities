version https://git-lfs.github.com/spec/v1
oid sha256:2ade3f095ee6ff02b7d81cb77c7e235a13acdca5bee81d79227b799422f06423
size 36033
