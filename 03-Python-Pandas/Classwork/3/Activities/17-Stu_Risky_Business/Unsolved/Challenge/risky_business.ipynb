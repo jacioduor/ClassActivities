version https://git-lfs.github.com/spec/v1
oid sha256:901996582e612ca62a427e2b0987bf8d4ef38c359ccfe1dc81718b9bd5f1c96c
size 10755
