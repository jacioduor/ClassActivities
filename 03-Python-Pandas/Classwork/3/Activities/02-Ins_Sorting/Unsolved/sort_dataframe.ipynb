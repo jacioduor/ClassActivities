version https://git-lfs.github.com/spec/v1
oid sha256:69ab9c6098ed32c276a3fa6e375164847c4b7952835df3efbac2cff829ace480
size 15090
