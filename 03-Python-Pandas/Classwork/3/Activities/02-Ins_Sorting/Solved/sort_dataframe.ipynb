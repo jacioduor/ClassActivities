version https://git-lfs.github.com/spec/v1
oid sha256:44fe3b07a858882a1805dcc0a133077eafedcb85fe477d593fe2c55e27a5df66
size 15319
