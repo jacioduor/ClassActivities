version https://git-lfs.github.com/spec/v1
oid sha256:01230c8c7af6fcf912a777f12dd702cc0cb329c5a34460b86f6f11fa94d21d9a
size 71658
