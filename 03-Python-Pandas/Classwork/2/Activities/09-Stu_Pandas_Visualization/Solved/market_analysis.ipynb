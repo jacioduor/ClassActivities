version https://git-lfs.github.com/spec/v1
oid sha256:addc149dfe3572b3620321e37c52e65e6fb345591a29e5b3e97608d89652c75f
size 72327
