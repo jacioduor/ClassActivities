version https://git-lfs.github.com/spec/v1
oid sha256:194b389d0999f731c3501430a839e010407d99d556162e3e980c0ca7d9db4426
size 2100
