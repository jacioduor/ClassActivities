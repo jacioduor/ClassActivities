version https://git-lfs.github.com/spec/v1
oid sha256:9af09420e95ac437341586e841ecbeb053f21f02a3fc80c50e14a4f4a574a55b
size 33852
