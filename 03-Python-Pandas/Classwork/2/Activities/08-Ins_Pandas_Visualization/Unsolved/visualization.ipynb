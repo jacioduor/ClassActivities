version https://git-lfs.github.com/spec/v1
oid sha256:274a60547d808edc331f3cdf1119d99f36aaab8d19219c5d4b5892e11000c3fa
size 1444
