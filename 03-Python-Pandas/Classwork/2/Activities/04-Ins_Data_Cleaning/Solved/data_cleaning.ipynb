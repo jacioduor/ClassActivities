version https://git-lfs.github.com/spec/v1
oid sha256:3f28395b8f58cfc53a15d91e76983cf482c18ab5bc53cc2d0e8eda1d8577562f
size 26341
