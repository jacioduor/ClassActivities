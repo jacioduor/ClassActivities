version https://git-lfs.github.com/spec/v1
oid sha256:ef976f2784d735662728eb532f067001015b40b1f4cfe748d41da72b0a86028a
size 12940
