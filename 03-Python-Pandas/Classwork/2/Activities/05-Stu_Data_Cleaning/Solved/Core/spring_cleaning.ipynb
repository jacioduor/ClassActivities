version https://git-lfs.github.com/spec/v1
oid sha256:74cd36300e3bf6582de90961d5744ce47250ed7f9a35ee2c6b0972db187b76f3
size 13330
