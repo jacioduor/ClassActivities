version https://git-lfs.github.com/spec/v1
oid sha256:00e580b152842643567ea32079803fca5e917108cb5805c5ff953409839efd8a
size 15399
