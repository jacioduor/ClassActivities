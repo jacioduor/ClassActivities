version https://git-lfs.github.com/spec/v1
oid sha256:d2fc71b3ba7fe9975ef4cfd8237a0e12715041202c7269f7dc185fa11e587304
size 137027
