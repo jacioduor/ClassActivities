version https://git-lfs.github.com/spec/v1
oid sha256:d8c46628a88ad7679be82e06d58175b986879117ac7d5d87db0fb76d43fb67de
size 403613
