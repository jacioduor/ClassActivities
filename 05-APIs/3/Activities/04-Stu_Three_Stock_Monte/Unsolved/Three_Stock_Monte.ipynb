version https://git-lfs.github.com/spec/v1
oid sha256:dbfa7ec10ffa59f426cfbfca03bac71eca173ec8a2401f697be1249cc9235d66
size 621541
