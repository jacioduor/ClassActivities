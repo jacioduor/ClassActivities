version https://git-lfs.github.com/spec/v1
oid sha256:82186c3bdd9e42de106085504954b12b0e6e7d30a99553796e24acdf48ac3600
size 277
