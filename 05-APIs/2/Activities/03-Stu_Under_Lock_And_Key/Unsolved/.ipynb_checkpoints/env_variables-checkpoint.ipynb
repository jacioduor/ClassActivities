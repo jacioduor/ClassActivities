version https://git-lfs.github.com/spec/v1
oid sha256:8bb138cbe2483cc926eaf7e8c5833f3ba1e210edd3002ca2992d5431bbfa2950
size 3434
