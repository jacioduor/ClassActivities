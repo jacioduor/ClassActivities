version https://git-lfs.github.com/spec/v1
oid sha256:8f12480652ecf2a1119ed09fca202f927d8e1b7cbd1285f9dd9f410893a0cd94
size 1245
