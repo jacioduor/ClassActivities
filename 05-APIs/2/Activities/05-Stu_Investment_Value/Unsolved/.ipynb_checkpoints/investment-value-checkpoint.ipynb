version https://git-lfs.github.com/spec/v1
oid sha256:5293cfa44444d6a1bf1c25520f7afd7d612096567c446c42e095713323e708c5
size 33246
