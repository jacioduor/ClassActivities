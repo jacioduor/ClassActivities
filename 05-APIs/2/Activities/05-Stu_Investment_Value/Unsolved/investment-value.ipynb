version https://git-lfs.github.com/spec/v1
oid sha256:89e4ba6968dcc4a47071fdd96612c009e8c3041dd0a6507397e7fe102a2be2ef
size 32787
