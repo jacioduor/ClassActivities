version https://git-lfs.github.com/spec/v1
oid sha256:67ed4985ef2676b03f179d7d18c02aecb3fc483b16d6d62ee27dcf9caf6495ec
size 4678
