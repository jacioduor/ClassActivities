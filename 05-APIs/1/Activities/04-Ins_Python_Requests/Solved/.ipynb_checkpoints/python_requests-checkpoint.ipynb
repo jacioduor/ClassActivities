version https://git-lfs.github.com/spec/v1
oid sha256:7cd7c9a573bb15dd3fabb5ee389ca5b620d94b88fb82061b46768d9e85208caf
size 50319
