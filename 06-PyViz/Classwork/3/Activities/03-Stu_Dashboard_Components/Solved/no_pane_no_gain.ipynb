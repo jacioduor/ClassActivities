version https://git-lfs.github.com/spec/v1
oid sha256:b0d7c5bd38c1cd71241ba9e08d5f1f2275f84cbd1222e131f18913d7e2f116ab
size 3063934
