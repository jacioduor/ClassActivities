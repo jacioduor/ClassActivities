version https://git-lfs.github.com/spec/v1
oid sha256:f0a244f7e10dac9d854c74e9f256afad89ae81cc47c8752e315b5465d223b9e4
size 161375
