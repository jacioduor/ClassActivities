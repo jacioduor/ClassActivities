version https://git-lfs.github.com/spec/v1
oid sha256:05cc556d078ad9bc63736028469f0a2f85e9f93154631a12a13f09e48763b0d2
size 12940
