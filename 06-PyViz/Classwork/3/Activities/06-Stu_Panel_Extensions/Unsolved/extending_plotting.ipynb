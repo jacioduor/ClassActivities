version https://git-lfs.github.com/spec/v1
oid sha256:9a7442e520e00853b9bb5a67e48b644078fb305245d5517108dfa93fd2aecea9
size 4839
