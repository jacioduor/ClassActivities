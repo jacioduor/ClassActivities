version https://git-lfs.github.com/spec/v1
oid sha256:87043b34d0c6d652b0ff38828081ea438850050343c604f92c9af324dc5dbaa7
size 3702461
