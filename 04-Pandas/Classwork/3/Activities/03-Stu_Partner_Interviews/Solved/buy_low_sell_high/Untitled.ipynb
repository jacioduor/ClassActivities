version https://git-lfs.github.com/spec/v1
oid sha256:6220a4f103b48b5fdc1c5df761e78ff8827bffb03d71678b90c13aecf24d70ed
size 1268
