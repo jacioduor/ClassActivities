version https://git-lfs.github.com/spec/v1
oid sha256:95a12c95043ae6681681cbdc3cf598915614816848297121a49f2c971d4d3352
size 4368
