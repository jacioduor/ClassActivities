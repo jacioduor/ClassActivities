version https://git-lfs.github.com/spec/v1
oid sha256:bd4e0d78c0d01bcc6b3d0cc666d932b292a363f0354051f45ccee60aba100e32
size 4574
