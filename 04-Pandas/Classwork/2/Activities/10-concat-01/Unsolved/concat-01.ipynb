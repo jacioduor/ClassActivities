version https://git-lfs.github.com/spec/v1
oid sha256:9f04b014384510172e3079f3cbe6e32c1d6272700dbe2ff04c9af7bee7d03916
size 51337
