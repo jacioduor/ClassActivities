version https://git-lfs.github.com/spec/v1
oid sha256:9bd5983740c1c936b344ba23232ecf013cc890592d671f5b318fbe510a226551
size 312327
