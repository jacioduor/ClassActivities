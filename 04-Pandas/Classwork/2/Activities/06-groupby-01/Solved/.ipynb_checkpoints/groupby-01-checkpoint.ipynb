version https://git-lfs.github.com/spec/v1
oid sha256:942d61cdcae1facce7dee5ef14ebd4c58f6c03af1b8c68d15b95c0b256250e93
size 80663
