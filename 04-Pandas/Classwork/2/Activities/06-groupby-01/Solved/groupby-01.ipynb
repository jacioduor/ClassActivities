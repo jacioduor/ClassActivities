version https://git-lfs.github.com/spec/v1
oid sha256:2eddf2df475b7cd915f43b4d177b5fc6b91db4334479f4c898b2e3dc4834ab19
size 80663
