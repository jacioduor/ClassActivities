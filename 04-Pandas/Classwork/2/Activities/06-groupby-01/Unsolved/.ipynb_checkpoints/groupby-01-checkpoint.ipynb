version https://git-lfs.github.com/spec/v1
oid sha256:dade70f8b598bdf21ef48313a94e966febf9682a25d50e0ae213183746b4058e
size 80289
