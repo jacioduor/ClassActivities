version https://git-lfs.github.com/spec/v1
oid sha256:cef949dfba6be0e7c960cd164291e4b005945dbcb1058aef864775108332773e
size 80510
