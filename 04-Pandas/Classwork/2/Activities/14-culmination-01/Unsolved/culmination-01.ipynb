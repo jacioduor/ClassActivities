version https://git-lfs.github.com/spec/v1
oid sha256:1d0e8766af18ecd3785bd2b785dbdb1a8782cb05f861e509d69fac99d28fe59a
size 81107
