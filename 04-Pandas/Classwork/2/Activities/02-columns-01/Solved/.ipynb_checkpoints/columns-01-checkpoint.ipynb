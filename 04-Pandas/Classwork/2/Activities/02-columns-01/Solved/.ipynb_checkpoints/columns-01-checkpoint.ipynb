version https://git-lfs.github.com/spec/v1
oid sha256:f247f8bac33ac0fc417bf256937e8507ef3760e137794f0ff7f6928a4ec0bd28
size 34006
