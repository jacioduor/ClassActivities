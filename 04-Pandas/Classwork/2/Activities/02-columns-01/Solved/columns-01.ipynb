version https://git-lfs.github.com/spec/v1
oid sha256:1df6ea51478e46af29ff8d94ab847c19973e07594b1ea270eae8e70dbb8a9008
size 34102
