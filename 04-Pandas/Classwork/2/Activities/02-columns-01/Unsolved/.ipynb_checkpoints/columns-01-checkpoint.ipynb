version https://git-lfs.github.com/spec/v1
oid sha256:a495c40b78122609bba2d8cae3b6ad6c3b31db18f6a9720b60e58f8dcf895af5
size 32614
