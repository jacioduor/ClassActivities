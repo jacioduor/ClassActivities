version https://git-lfs.github.com/spec/v1
oid sha256:266256e15c6a1b6da75b5249e6b962b478420b4ce47777e6122683c68b36aadd
size 12491
