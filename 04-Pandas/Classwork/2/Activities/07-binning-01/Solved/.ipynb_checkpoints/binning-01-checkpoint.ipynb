version https://git-lfs.github.com/spec/v1
oid sha256:9f3dea92a3fc2ad6ef6da0d518eed9b4d5eb184759c5a8d47b3aee8d9bb0d5f6
size 12491
