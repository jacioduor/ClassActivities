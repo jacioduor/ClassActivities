version https://git-lfs.github.com/spec/v1
oid sha256:e09cbf83c3cd64e570d1658b671bf9722d12c2baf641c340e869ea2900bfe2ce
size 65867
