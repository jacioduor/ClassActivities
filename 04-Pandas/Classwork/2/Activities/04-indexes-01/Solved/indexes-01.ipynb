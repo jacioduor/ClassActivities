version https://git-lfs.github.com/spec/v1
oid sha256:8c5b2b829a25089b0a64e42807f3dd47beabaeda8213e8464bc73d5a80b97cbd
size 106910
