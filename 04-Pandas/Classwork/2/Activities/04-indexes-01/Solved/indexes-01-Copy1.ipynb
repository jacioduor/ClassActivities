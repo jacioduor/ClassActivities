version https://git-lfs.github.com/spec/v1
oid sha256:91d1a01529a4c826d9a934db2d0ec429296ceba0754c403291121f477ec112c3
size 70088
