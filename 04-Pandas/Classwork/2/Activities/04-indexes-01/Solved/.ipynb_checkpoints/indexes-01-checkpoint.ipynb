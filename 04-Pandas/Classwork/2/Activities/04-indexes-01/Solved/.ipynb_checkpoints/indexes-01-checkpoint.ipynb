version https://git-lfs.github.com/spec/v1
oid sha256:896c77205bc7ae25859aa8ffc4211e6c1a0a82e972c14ac7fdc3eb29cc013037
size 106910
