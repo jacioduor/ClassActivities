version https://git-lfs.github.com/spec/v1
oid sha256:13790e3a3a6dbe65cc42fde2fbc279cbe3fb406629f733c2eddd56cdaa365387
size 105944
