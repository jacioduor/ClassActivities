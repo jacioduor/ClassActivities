version https://git-lfs.github.com/spec/v1
oid sha256:52daf65511e53d45fca2ae1626e88a69d4bcc56bd9270ed7336388e6df649b97
size 37366
