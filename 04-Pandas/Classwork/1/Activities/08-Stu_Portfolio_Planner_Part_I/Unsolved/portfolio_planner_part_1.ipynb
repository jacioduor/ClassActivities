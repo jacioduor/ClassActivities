version https://git-lfs.github.com/spec/v1
oid sha256:df2ac389d2de4abed3b2e471c05cc98dba8400729f760b588da2985ea6703c15
size 51789
