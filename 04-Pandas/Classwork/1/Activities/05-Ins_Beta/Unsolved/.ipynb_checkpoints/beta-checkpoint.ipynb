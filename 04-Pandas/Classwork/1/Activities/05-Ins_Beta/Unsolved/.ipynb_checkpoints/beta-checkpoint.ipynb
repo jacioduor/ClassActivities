version https://git-lfs.github.com/spec/v1
oid sha256:effc1b0ac139fe83e69f021061e68d7db8f71a76ea82bd32e19cd2691f87571c
size 269078
