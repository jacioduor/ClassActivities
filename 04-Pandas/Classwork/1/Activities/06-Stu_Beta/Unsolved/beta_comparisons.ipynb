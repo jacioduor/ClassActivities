version https://git-lfs.github.com/spec/v1
oid sha256:adaf2182674d2023744e4eb31fd7577bd813d7a220ce7cb81117ebb43c040cc0
size 170448
