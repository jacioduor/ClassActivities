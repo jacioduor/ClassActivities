version https://git-lfs.github.com/spec/v1
oid sha256:636cb15ca2733d2bd2902c6c82aeea83dac8cd68eb0af58428384d928e19074c
size 276604
